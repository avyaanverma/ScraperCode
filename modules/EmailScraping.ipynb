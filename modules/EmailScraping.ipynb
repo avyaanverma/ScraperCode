{
  "nbformat": 4,
  "nbformat_minor": 0,
  "metadata": {
    "colab": {
      "provenance": [],
      "toc_visible": true
    },
    "kernelspec": {
      "name": "python3",
      "display_name": "Python 3"
    },
    "language_info": {
      "name": "python"
    }
  },
  "cells": [
    {
      "cell_type": "code",
      "execution_count": null,
      "metadata": {
        "colab": {
          "base_uri": "https://localhost:8080/"
        },
        "id": "c5Hd9RqN_IGD",
        "outputId": "cdcd10d9-e84e-45f4-bb38-98eb4ec8ce57"
      },
      "outputs": [
        {
          "output_type": "stream",
          "name": "stdout",
          "text": [
            "Requirement already satisfied: requests in /usr/local/lib/python3.10/dist-packages (2.32.3)\n",
            "Requirement already satisfied: charset-normalizer<4,>=2 in /usr/local/lib/python3.10/dist-packages (from requests) (3.3.2)\n",
            "Requirement already satisfied: idna<4,>=2.5 in /usr/local/lib/python3.10/dist-packages (from requests) (3.8)\n",
            "Requirement already satisfied: urllib3<3,>=1.21.1 in /usr/local/lib/python3.10/dist-packages (from requests) (2.0.7)\n",
            "Requirement already satisfied: certifi>=2017.4.17 in /usr/local/lib/python3.10/dist-packages (from requests) (2024.7.4)\n",
            "Requirement already satisfied: beautifulsoup4 in /usr/local/lib/python3.10/dist-packages (4.12.3)\n",
            "Requirement already satisfied: soupsieve>1.2 in /usr/local/lib/python3.10/dist-packages (from beautifulsoup4) (2.6)\n"
          ]
        }
      ],
      "source": [
        "!pip install requests\n",
        "!pip install beautifulsoup4\n"
      ]
    },
    {
      "cell_type": "code",
      "source": [
        "import requests\n",
        "from bs4 import BeautifulSoup\n",
        "from urllib.parse import urljoin\n",
        "import time\n",
        "\n",
        "def crawl(seed_url, max_urls=100):\n",
        "    # To avoid visiting the same URL again\n",
        "    visited = set()\n",
        "    # Queue for URLs to be crawled\n",
        "    queue = [seed_url]\n",
        "    # List to store crawled URLs\n",
        "    urls = []\n",
        "\n",
        "    while queue and len(urls) < max_urls:\n",
        "        url = queue.pop(0)  # Get the next URL to crawl\n",
        "        if url in visited:\n",
        "            continue\n",
        "\n",
        "        print(f\"Crawling: {url}\")\n",
        "        try:\n",
        "            # Fetch the content of the page\n",
        "            response = requests.get(url)\n",
        "            visited.add(url)  # Mark URL as visited\n",
        "            soup = BeautifulSoup(response.text, 'html.parser')\n",
        "\n",
        "            # Extract and normalize all <a> tag href links\n",
        "            for link in soup.find_all('a', href=True):\n",
        "                full_url = urljoin(url, link['href'])\n",
        "                # Add URL to queue if not already visited\n",
        "                if full_url not in visited and full_url not in queue:\n",
        "                    queue.append(full_url)\n",
        "                    urls.append(full_url)\n",
        "\n",
        "\n",
        "                    if len(urls) >= max_urls:\n",
        "                        break\n",
        "\n",
        "        except requests.RequestException as e:\n",
        "            print(f\"Error fetching {url}: {e}\")\n",
        "\n",
        "        # Optional: Sleep to avoid being blocked by servers for rapid requests\n",
        "        time.sleep(1)\n",
        "\n",
        "    return urls\n",
        "\n",
        "# Seed URL\n",
        "seed_url = \"https://www.vitbhopal.ac.in\"\n",
        "# Start crawling from the seed URL\n",
        "found_urls = crawl(seed_url)\n",
        "\n",
        "# Output the found URLs\n",
        "print(f\"Found {len(found_urls)} URLs:\")\n",
        "for url in found_urls:\n",
        "    print(url)\n"
      ],
      "metadata": {
        "colab": {
          "base_uri": "https://localhost:8080/"
        },
        "id": "QeDnUq_g_fXW",
        "outputId": "2d1439fb-50a2-4c29-b238-a0dc9e64a261"
      },
      "execution_count": null,
      "outputs": [
        {
          "output_type": "stream",
          "name": "stdout",
          "text": [
            "Crawling: https://www.vitbhopal.ac.in\n",
            "Found 100 URLs:\n",
            "https://vitbhopal.ac.in/\n",
            "https://vitbhopal.ac.in/vit-bhopal/\n",
            "https://vitbhopal.ac.in/infrastructure/\n",
            "https://vitbhopal.ac.in/leadership/\n",
            "https://vitbhopal.ac.in/schools-best-engineering-institute/\n",
            "https://vitbhopal.ac.in/faculty/\n",
            "https://vitbhopal.ac.in/ffcs/\n",
            "https://vitbhopal.ac.in/controller-of-examinations/\n",
            "https://vitbhopal.ac.in/international_relations/\n",
            "https://vitbhopal.ac.in/library/\n",
            "https://vitbhopal.ac.in/vit-bhopal-blogs/\n",
            "https://vitbhopal.ac.in/allevents/\n",
            "https://vitbhopal.ac.in/studentwelfare/\n",
            "https://vitbhopal.ac.in/committees/\n",
            "https://vitbhopal.ac.in/stars-scheme/\n",
            "https://vitbhopal.ac.in/industry-conclave-2024/\n",
            "https://vitbhopal.ac.in/diversity/\n",
            "https://vitbhopal.ac.in/vitb-student-achievements/\n",
            "https://vitbhopal.ac.in/hostel-life/\n",
            "https://vitbhopal.ac.in/student-ambassador-program/\n",
            "https://vitbhopal.ac.in/gallery/\n",
            "https://admission.vitbhopal.ac.in\n",
            "https://vitbhopal.ac.in/caltech-vit/\n",
            "https://vitbhopal.ac.in/placement-overview/\n",
            "https://vitbhopal.ac.in/super-dream/\n",
            "https://vitbhopal.ac.in/dream-offers/\n",
            "https://vitbhopal.ac.in/internship-placements/\n",
            "https://vitbhopal.ac.in/statistics/\n",
            "https://vitbhopal.ac.in/pat-office/\n",
            "https://vitbhopal.ac.in/aerospace-engineering/\n",
            "https://vitbhopal.ac.in/ai/\n",
            "https://vitbhopal.ac.in/bio-engineering/\n",
            "http://vitbhopal.ac.in/cyber-security/\n",
            "http://vitbhopal.ac.in/gaming-technology/\n",
            "https://vitbhopal.ac.in/cybernetics/\n",
            "https://vitbhopal.ac.in/cloud/\n",
            "https://vitbhopal.ac.in/edutech/\n",
            "https://vitbhopal.ac.in/ecommerce/\n",
            "https://vitbhopal.ac.in/health-informatics/\n",
            "https://vitbhopal.ac.in/robotics/\n",
            "https://vitbhopal.ac.in/architecture/\n",
            "https://vitbhopal.ac.in/wp-content/uploads/2024/05/Campus-Life-at-VIT-Bhopal.mp4\n",
            "https://www.instagram.com/vit.bhopal/\n",
            "https://www.instagram.com/p/CkigK7dPTGC/\n",
            "https://scontent.cdninstagram.com/v/t51.29350-15/313926501_1267035880534396_1234652886478897964_n.jpg?_nc_cat=106&ccb=1-7&_nc_sid=8ae9d6&_nc_ohc=02gAlBHhu_8AX8OqFQI&_nc_ht=scontent.cdninstagram.com&edm=ANo9K5cEAAAA&oh=00_AfCbc5q1-v67iQxKe-hSvFLhMAoGBZBuDnYPCNshOxYswQ&oe=636AEC46\n",
            "https://www.instagram.com/reel/Ckf-5yHvV2f/\n",
            "https://scontent.cdninstagram.com/v/t51.29350-15/313863288_501746535212715_4717425216377817635_n.jpg?_nc_cat=104&ccb=1-7&_nc_sid=8ae9d6&_nc_ohc=QaQ9JosSTwgAX9W9GXL&_nc_ht=scontent.cdninstagram.com&edm=ANo9K5cEAAAA&oh=00_AfCkDof4hV_RuNxVmA4UjDKyauyJcSTvwIH-tbq_xwUnFA&oe=636A81C2\n",
            "https://www.instagram.com/reel/Ckf-nXNswSw/\n",
            "https://scontent.cdninstagram.com/v/t51.29350-15/313651650_422320926745669_1009344318998557288_n.jpg?_nc_cat=105&ccb=1-7&_nc_sid=8ae9d6&_nc_ohc=ocoSBOHUw8sAX90pOsk&_nc_ht=scontent.cdninstagram.com&edm=ANo9K5cEAAAA&oh=00_AfBc1MresciiGjmDYYBrq2eEsuBt9o3K-rIYquwgiNlO5g&oe=636B67DE\n",
            "https://www.instagram.com/reel/CkfsyHVjLOC/\n",
            "https://scontent.cdninstagram.com/v/t51.29350-15/313920382_828620845052578_7317899495940431609_n.jpg?_nc_cat=104&ccb=1-7&_nc_sid=8ae9d6&_nc_ohc=nXNY8xheWRQAX8t1JM2&_nc_ht=scontent.cdninstagram.com&edm=ANo9K5cEAAAA&oh=00_AfBzR_r4aNjDoGbE70NqMqttF6X7Y76DrvO4Npf5Mr7vEg&oe=636BA903\n",
            "https://www.instagram.com/reel/Ckfsq7KPEaC/\n",
            "https://scontent.cdninstagram.com/v/t51.29350-15/313316470_1283182409201968_4635252496020350353_n.jpg?_nc_cat=105&ccb=1-7&_nc_sid=8ae9d6&_nc_ohc=qWv0xF0R7NYAX_kAwFX&_nc_ht=scontent.cdninstagram.com&edm=ANo9K5cEAAAA&oh=00_AfATXGoIL9JcC4xi1inexNqVEDsaRYeC8M1Z9OHRs2UhVw&oe=636A1587\n",
            "https://www.instagram.com/reel/CkfsiIXuXeJ/\n",
            "https://scontent.cdninstagram.com/v/t51.29350-15/313728665_514974173855862_6038399911470391137_n.jpg?_nc_cat=104&ccb=1-7&_nc_sid=8ae9d6&_nc_ohc=4VDnHTD5KKgAX_cKjIl&_nc_ht=scontent.cdninstagram.com&edm=ANo9K5cEAAAA&oh=00_AfDpsCYSwi4zpq2MfaHRGrVAz5g3SOFPP339BxXSUPibrA&oe=636BAF64\n",
            "https://www.instagram.com/p/Cj7pZQwMpjL/\n",
            "https://scontent.cdninstagram.com/v/t51.29350-15/312001602_596721332245111_1358482824318757334_n.jpg?_nc_cat=108&ccb=1-7&_nc_sid=8ae9d6&_nc_ohc=ZHFMXEAFup4AX-emzD1&_nc_ht=scontent.cdninstagram.com&edm=ANo9K5cEAAAA&oh=00_AfDbJDq2wYAFVFJ9DcO_SucOTnws4E2pANuJiVGQ_kFPJg&oe=636A637F\n",
            "https://www.instagram.com/p/Cj7fQ6_M3lF/\n",
            "https://scontent.cdninstagram.com/v/t51.29350-15/312132839_1510210802786619_251061772969247847_n.jpg?_nc_cat=100&ccb=1-7&_nc_sid=8ae9d6&_nc_ohc=n688EZFZmmAAX8YCR0Z&_nc_ht=scontent.cdninstagram.com&edm=ANo9K5cEAAAA&oh=00_AfBBgBJw9vLxHdYivugV3hq7XP8KD8ST9P764udgzqvUVQ&oe=636A6BAF\n",
            "https://www.instagram.com/p/Cj7fMtZsrLR/\n",
            "https://scontent.cdninstagram.com/v/t51.29350-15/311920451_5608213782599764_1521417254431471183_n.jpg?_nc_cat=104&ccb=1-7&_nc_sid=8ae9d6&_nc_ohc=yYGU7V8YYigAX9W8a8U&_nc_ht=scontent.cdninstagram.com&edm=ANo9K5cEAAAA&oh=00_AfCLsYXUD9dRh5VsYYpxJMoLtqun_J6sRGYvjbnWNXbYAA&oe=636A3ECD\n",
            "https://www.instagram.com/p/Cj2zH1uvN0Z/\n",
            "https://scontent.cdninstagram.com/v/t51.29350-15/311849733_811048423495538_7831648607806942463_n.jpg?_nc_cat=109&ccb=1-7&_nc_sid=8ae9d6&_nc_ohc=piF3wVwHfmkAX9tu1Gb&_nc_ht=scontent.cdninstagram.com&edm=ANo9K5cEAAAA&oh=00_AfCqNQzaAJ8GhcGN2v9pIf6xrIL9GG84GLBaMBvSVOLeMg&oe=636AA602\n",
            "https://www.instagram.com/p/Cj2FczasY7H/\n",
            "https://scontent.cdninstagram.com/v/t51.29350-15/311810332_180614894496450_3581879533604932487_n.jpg?_nc_cat=109&ccb=1-7&_nc_sid=8ae9d6&_nc_ohc=OvZmS6KVk2EAX_FOHdp&_nc_ht=scontent.cdninstagram.com&edm=ANo9K5cEAAAA&oh=00_AfAi5ZiuhAOJnxUrSfBldTPogTahKbjn4V-P4vvaH6yFZg&oe=636AB410\n",
            "https://www.instagram.com/p/CjwjNBOPV5z/\n",
            "https://scontent.cdninstagram.com/v/t51.29350-15/311697552_630835808684000_5795832778000985588_n.jpg?_nc_cat=108&ccb=1-7&_nc_sid=8ae9d6&_nc_ohc=IC8VCZZ5YsEAX_c5_Jk&_nc_ht=scontent.cdninstagram.com&edm=ANo9K5cEAAAA&oh=00_AfCSSpyceVaSMz9Irt7U6FnLgT0I8_KtnsZqEy83WSVkfw&oe=636AE988\n",
            "https://www.instagram.com/p/CjrcfkPI7-V/\n",
            "https://scontent.cdninstagram.com/v/t51.29350-15/310688410_518941056685872_675631298790697410_n.jpg?_nc_cat=109&ccb=1-7&_nc_sid=8ae9d6&_nc_ohc=n5pJUSE3TfwAX9xhbdA&_nc_ht=scontent.cdninstagram.com&edm=ANo9K5cEAAAA&oh=00_AfAvJa82GwGvrc31xyTlhLJdzI696u0gexi7-X4bjCK2jg&oe=636BA8F6\n",
            "https://www.instagram.com/p/CjrcMG9Pbcz/\n",
            "https://scontent.cdninstagram.com/v/t51.29350-15/311372797_147998754603025_9141007060745456813_n.jpg?_nc_cat=107&ccb=1-7&_nc_sid=8ae9d6&_nc_ohc=qnqWY9RDn1gAX--MUUn&_nc_ht=scontent.cdninstagram.com&edm=ANo9K5cEAAAA&oh=00_AfCidVmJnn4G77nVo9_Ga0tY2TTKcIE7xm7gFNEB1zlBTw&oe=636AEC93\n",
            "https://www.instagram.com/p/Cjpfh0KPX92/\n",
            "https://scontent.cdninstagram.com/v/t51.29350-15/311286217_1370786866661198_2212331928151985961_n.jpg?_nc_cat=101&ccb=1-7&_nc_sid=8ae9d6&_nc_ohc=tqamcyTVqcMAX8hx_yL&_nc_ht=scontent.cdninstagram.com&edm=ANo9K5cEAAAA&oh=00_AfAmEZbH8pOH8bclal_3ZcU2EKbNgOJpU4gT2FKn4yrcIQ&oe=636AE13B\n",
            "https://www.instagram.com/p/Cjo5tOqogCr/\n",
            "https://scontent.cdninstagram.com/v/t51.29350-15/311277660_444567097665995_6060944622964153603_n.jpg?_nc_cat=103&ccb=1-7&_nc_sid=8ae9d6&_nc_ohc=JYff-hgB5YUAX91XUhJ&_nc_ht=scontent.cdninstagram.com&edm=ANo9K5cEAAAA&oh=00_AfBqBGVOJxq-MrPeor6WD7BMbdc0oeK8Gfgdu_b0tmFkdQ&oe=636A121A\n",
            "https://www.instagram.com/p/CjmyoffMZeq/\n",
            "https://scontent.cdninstagram.com/v/t51.29350-15/311270716_661474962274568_8514161077815289417_n.jpg?_nc_cat=102&ccb=1-7&_nc_sid=8ae9d6&_nc_ohc=nEtXeRRTOuEAX86fsQi&_nc_ht=scontent.cdninstagram.com&edm=ANo9K5cEAAAA&oh=00_AfDC7r3evlR5xdLcPwkrOEaQoG0vgdB2ywBpbfno_IOgqQ&oe=636A19B0\n",
            "https://www.instagram.com/p/CjmynukMyzD/\n",
            "https://scontent.cdninstagram.com/v/t51.29350-15/311111435_635699861602570_791753979086197054_n.jpg?_nc_cat=111&ccb=1-7&_nc_sid=8ae9d6&_nc_ohc=WmEMBYmv9_IAX8pnbly&_nc_ht=scontent.cdninstagram.com&edm=ANo9K5cEAAAA&oh=00_AfAIfx2ixbzJEnGQyPJ7uKct2yViq0L3_Df_k9VTyUgZjA&oe=636AABB0\n",
            "https://www.instagram.com/p/CjmWnnVIxZI/\n",
            "https://scontent.cdninstagram.com/v/t51.29350-15/310459180_1288518181982044_9034194288157536763_n.jpg?_nc_cat=102&ccb=1-7&_nc_sid=8ae9d6&_nc_ohc=nj5HvfRzGa4AX-MqDTt&_nc_ht=scontent.cdninstagram.com&edm=ANo9K5cEAAAA&oh=00_AfCMUukp1JLieot1HNfG4sFXZOBJMwmkkradQQAouM7KNA&oe=6369E0DB\n",
            "https://www.instagram.com/p/CjkiJhyvJ1d/\n",
            "https://scontent.cdninstagram.com/v/t51.29350-15/310491659_667884614597078_7449419967373921498_n.jpg?_nc_cat=104&ccb=1-7&_nc_sid=8ae9d6&_nc_ohc=vMykDVlYgyEAX8yh2GR&_nc_ht=scontent.cdninstagram.com&edm=ANo9K5cEAAAA&oh=00_AfDBSYYLHal6MEoOX36_YGWQInZDy4zR18HExZO1eKj2ng&oe=636A25AF\n",
            "javascript:void(0);\n",
            "https://vitbhopal.ac.in/contacts/\n",
            "https://vitbhopal.ac.in/ticker_news/international-conference-on-icsdp-2024/\n",
            "https://vitbhopal.ac.in/ticker_news/international-conference-on-icdcc-2024/\n",
            "https://vitbhopal.ac.in/ticker_news/freshers-2024new/\n",
            "https://vitbhopal.ac.in/ticker_news/international-conference-on-ipmsl-2024/\n",
            "https://vitbhopal.ac.in/ticker_news/mba-admission-2024new/\n",
            "https://vitbhopal.ac.in/indore/\n",
            "https://www.facebook.com/VITunivBhopal/\n",
            "https://www.instagram.com/vit.bhopal\n",
            "https://twitter.com/VITBhopal\n",
            "https://www.youtube.com/channel/UCFJ1o0OgutcUvG3lOm70v_w\n",
            "https://vitbhopal.ac.in/careers/\n",
            "https://vtop.vitbhopal.ac.in/vtop\n",
            "https://vitbhopal.ac.in/committees/#Women_Grievance_Cell\n",
            "https://vitbhopal.ac.in/antiragging-committee/\n",
            "https://vitbhopal.ac.in/committees/#Grievance_Redressal_Committee\n"
          ]
        }
      ]
    },
    {
      "cell_type": "code",
      "source": [],
      "metadata": {
        "id": "2-RYvf8FAeb-"
      },
      "execution_count": null,
      "outputs": []
    },
    {
      "cell_type": "code",
      "source": [
        "import requests\n",
        "from bs4 import BeautifulSoup\n",
        "import re\n",
        "\n",
        "def fetch_emails_from_url(url):\n",
        "    try:\n",
        "        # Fetch the content of the web page\n",
        "        response = requests.get(url)\n",
        "        response.raise_for_status()  # Raise an error for bad responses\n",
        "\n",
        "        # Parse the HTML content using BeautifulSoup\n",
        "        soup = BeautifulSoup(response.text, 'html.parser')\n",
        "\n",
        "        # Find all text content on the page\n",
        "        text = soup.get_text()\n",
        "\n",
        "        # Regular expression pattern to extract emails\n",
        "        email_pattern = r'[a-zA-Z0-9._%+-]+@[a-zA-Z0-9.-]+\\.[a-zA-Z]{2,}'\n",
        "\n",
        "        # Find all matching email addresses\n",
        "        emails = re.findall(email_pattern, text)\n",
        "\n",
        "        # Remove duplicates by converting the list to a set and back to a list\n",
        "        unique_emails = list(set(emails))\n",
        "\n",
        "        return unique_emails\n",
        "\n",
        "    except requests.RequestException as e:\n",
        "        print(f\"Error fetching {url}: {e}\")\n",
        "        return []\n",
        "\n",
        "# URL to extract emails from\n",
        "url = \"https://www.vitbhopal.ac.in\"\n",
        "\n",
        "# Fetch emails\n",
        "emails = fetch_emails_from_url(url)\n",
        "\n",
        "# Output the found emails\n",
        "print(f\"Found {len(emails)} emails:\")\n",
        "for email in emails:\n",
        "    print(email)\n"
      ],
      "metadata": {
        "colab": {
          "base_uri": "https://localhost:8080/"
        },
        "id": "C6Ks-1l4AyLf",
        "outputId": "22b39094-42bd-4e64-973a-dba4e8dc4fa8"
      },
      "execution_count": null,
      "outputs": [
        {
          "output_type": "stream",
          "name": "stdout",
          "text": [
            "Found 5 emails:\n",
            "admissions@vitbhopal.ac.in\n",
            "cw@vitbhopal.ac.in\n",
            "placement@vitbhopal.ac.in\n",
            "info@vitbhopal.ac.in\n",
            "warden.lh@vitbhopal.ac.in\n"
          ]
        }
      ]
    },
    {
      "cell_type": "code",
      "source": [],
      "metadata": {
        "id": "7JEM0CvfBhlN"
      },
      "execution_count": null,
      "outputs": []
    },
    {
      "cell_type": "code",
      "source": [],
      "metadata": {
        "id": "uK5Bd4PT_kxI"
      },
      "execution_count": null,
      "outputs": []
    }
  ]
}